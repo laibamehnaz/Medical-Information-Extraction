{
 "cells": [
  {
   "cell_type": "markdown",
   "metadata": {},
   "source": [
    "# Medical Information Extraction"
   ]
  },
  {
   "cell_type": "code",
   "execution_count": 1,
   "metadata": {
    "collapsed": true
   },
   "outputs": [],
   "source": [
    "import pandas as pd\n",
    "import seaborn as sns\n",
    "import matplotlib.pyplot as plt\n",
    "import nltk\n"
   ]
  },
  {
   "cell_type": "code",
   "execution_count": 2,
   "metadata": {
    "collapsed": true
   },
   "outputs": [],
   "source": [
    "train_data = pd.read_csv('train_medical.csv')\n",
    "test_data = pd.read_csv('test_medical.csv')\n",
    "validation_data = pd.read_csv('validation_medical.csv')"
   ]
  },
  {
   "cell_type": "code",
   "execution_count": 3,
   "metadata": {},
   "outputs": [
    {
     "name": "stdout",
     "output_type": "stream",
     "text": [
      "No of rows in the training set :  (13340, 25)\n",
      "No of rows in the test set :  (4566, 25)\n"
     ]
    }
   ],
   "source": [
    "print(\"No of rows in the training set : \" , train_data.shape)\n",
    "print(\"No of rows in the test set : \" , test_data.shape)"
   ]
  },
  {
   "cell_type": "code",
   "execution_count": 4,
   "metadata": {},
   "outputs": [
    {
     "data": {
      "text/html": [
       "<div>\n",
       "<style scoped>\n",
       "    .dataframe tbody tr th:only-of-type {\n",
       "        vertical-align: middle;\n",
       "    }\n",
       "\n",
       "    .dataframe tbody tr th {\n",
       "        vertical-align: top;\n",
       "    }\n",
       "\n",
       "    .dataframe thead th {\n",
       "        text-align: right;\n",
       "    }\n",
       "</style>\n",
       "<table border=\"1\" class=\"dataframe\">\n",
       "  <thead>\n",
       "    <tr style=\"text-align: right;\">\n",
       "      <th></th>\n",
       "      <th>_unit_id</th>\n",
       "      <th>_created_at</th>\n",
       "      <th>_canary</th>\n",
       "      <th>_id</th>\n",
       "      <th>_started_at</th>\n",
       "      <th>_channel</th>\n",
       "      <th>_trust</th>\n",
       "      <th>_worker_id</th>\n",
       "      <th>_country</th>\n",
       "      <th>_region</th>\n",
       "      <th>...</th>\n",
       "      <th>direction_gold</th>\n",
       "      <th>e1</th>\n",
       "      <th>e2</th>\n",
       "      <th>relation</th>\n",
       "      <th>relex_relcos</th>\n",
       "      <th>sent_id</th>\n",
       "      <th>sentence</th>\n",
       "      <th>term1</th>\n",
       "      <th>term2</th>\n",
       "      <th>twrex</th>\n",
       "    </tr>\n",
       "  </thead>\n",
       "  <tbody>\n",
       "    <tr>\n",
       "      <th>0</th>\n",
       "      <td>502808352</td>\n",
       "      <td>7/13/2014 13:48:35</td>\n",
       "      <td>NaN</td>\n",
       "      <td>1321892767</td>\n",
       "      <td>7/13/2014 13:48:14</td>\n",
       "      <td>clixsense</td>\n",
       "      <td>0.9167</td>\n",
       "      <td>27871219</td>\n",
       "      <td>NLD</td>\n",
       "      <td>07</td>\n",
       "      <td>...</td>\n",
       "      <td>NaN</td>\n",
       "      <td>69</td>\n",
       "      <td>142</td>\n",
       "      <td>treats</td>\n",
       "      <td>1.0</td>\n",
       "      <td>907845-FS1-2</td>\n",
       "      <td>For treatment of uncomplicated cervical, URETH...</td>\n",
       "      <td>URETHRAL OR RECTAL GONORRHEA</td>\n",
       "      <td>IM CEFTRIAXONE</td>\n",
       "      <td>RO-may_treat</td>\n",
       "    </tr>\n",
       "    <tr>\n",
       "      <th>1</th>\n",
       "      <td>502808352</td>\n",
       "      <td>7/13/2014 13:51:12</td>\n",
       "      <td>NaN</td>\n",
       "      <td>1321894040</td>\n",
       "      <td>7/13/2014 13:51:07</td>\n",
       "      <td>neodev</td>\n",
       "      <td>0.8333</td>\n",
       "      <td>17610000</td>\n",
       "      <td>GBR</td>\n",
       "      <td>I2</td>\n",
       "      <td>...</td>\n",
       "      <td>NaN</td>\n",
       "      <td>69</td>\n",
       "      <td>142</td>\n",
       "      <td>treats</td>\n",
       "      <td>1.0</td>\n",
       "      <td>907845-FS1-2</td>\n",
       "      <td>For treatment of uncomplicated cervical, URETH...</td>\n",
       "      <td>URETHRAL OR RECTAL GONORRHEA</td>\n",
       "      <td>IM CEFTRIAXONE</td>\n",
       "      <td>RO-may_treat</td>\n",
       "    </tr>\n",
       "  </tbody>\n",
       "</table>\n",
       "<p>2 rows × 25 columns</p>\n",
       "</div>"
      ],
      "text/plain": [
       "    _unit_id         _created_at _canary         _id         _started_at  \\\n",
       "0  502808352  7/13/2014 13:48:35     NaN  1321892767  7/13/2014 13:48:14   \n",
       "1  502808352  7/13/2014 13:51:12     NaN  1321894040  7/13/2014 13:51:07   \n",
       "\n",
       "    _channel  _trust  _worker_id _country _region      ...       \\\n",
       "0  clixsense  0.9167    27871219      NLD      07      ...        \n",
       "1     neodev  0.8333    17610000      GBR      I2      ...        \n",
       "\n",
       "  direction_gold  e1   e2  relation  relex_relcos       sent_id  \\\n",
       "0            NaN  69  142    treats           1.0  907845-FS1-2   \n",
       "1            NaN  69  142    treats           1.0  907845-FS1-2   \n",
       "\n",
       "                                            sentence  \\\n",
       "0  For treatment of uncomplicated cervical, URETH...   \n",
       "1  For treatment of uncomplicated cervical, URETH...   \n",
       "\n",
       "                          term1           term2         twrex  \n",
       "0  URETHRAL OR RECTAL GONORRHEA  IM CEFTRIAXONE  RO-may_treat  \n",
       "1  URETHRAL OR RECTAL GONORRHEA  IM CEFTRIAXONE  RO-may_treat  \n",
       "\n",
       "[2 rows x 25 columns]"
      ]
     },
     "execution_count": 4,
     "metadata": {},
     "output_type": "execute_result"
    }
   ],
   "source": [
    "train_data.head(2)"
   ]
  },
  {
   "cell_type": "markdown",
   "metadata": {},
   "source": [
    "# Dropping irrelevant columns\n",
    "   \n",
    "   Columns that are dropped are : _unit_id , _created_at, _canary ,  _id ,  _started_at ,  _channel ,\n",
    "       _trust ,  _worker_id ,  _country ,  _region , _city , _ip ,\n",
    "        direction , b1 , b2 , direction_gold , e1 ,  e2,\n",
    "       relex_relcos , sent_id , twrex , term1 ,  term2\n",
    "   \n",
    "   After dropping the above columns we are left with columns : 'sentence' and 'relation'\n"
   ]
  },
  {
   "cell_type": "code",
   "execution_count": 5,
   "metadata": {},
   "outputs": [
    {
     "name": "stdout",
     "output_type": "stream",
     "text": [
      "Shape of training set :  (13340, 2)\n",
      "Shape of test set :  (4566, 2)\n",
      "Shape of validation set :  (4270, 2)\n"
     ]
    }
   ],
   "source": [
    "#dropping irrelevant columns\n",
    "columns_to_drop = ['_unit_id', '_created_at', '_canary', '_id', '_started_at', '_channel',\n",
    "       '_trust', '_worker_id', '_country', '_region', '_city', '_ip',\n",
    "       'direction', 'b1', 'b2', 'direction_gold', 'e1', 'e2',\n",
    "       'relex_relcos', 'sent_id', 'twrex', 'term1' , 'term2']\n",
    "\n",
    "\n",
    "train_data = train_data.drop( columns_to_drop , axis = 1)\n",
    "test_data = test_data.drop(columns_to_drop , axis = 1)\n",
    "validation_data = validation_data.drop(columns_to_drop , axis = 1)\n",
    "\n",
    "\n",
    "print(\"Shape of training set : \" , train_data.shape)\n",
    "print(\"Shape of test set : \" , test_data.shape)\n",
    "print(\"Shape of validation set : \" , validation_data.shape)"
   ]
  },
  {
   "cell_type": "markdown",
   "metadata": {},
   "source": [
    "# The Classes present in the Dataset \n",
    "    1. causes\n",
    "    2. treats \n",
    "    3. is location of\n",
    "    4. diagnosed by\n",
    "    5. contraindicates\n",
    "    6. is diagnosed by\n",
    "    7. location of \n",
    "    8. diagnosed by test or drug\n",
    "    9. location\n"
   ]
  },
  {
   "cell_type": "code",
   "execution_count": 6,
   "metadata": {},
   "outputs": [
    {
     "data": {
      "image/png": "[encoded data removed]",
      "text/plain": [
       "<matplotlib.figure.Figure at 0x170d7351e10>"
      ]
     },
     "metadata": {},
     "output_type": "display_data"
    }
   ],
   "source": [
    "count_classes = train_data['relation'].value_counts()\n",
    "x = [ i for i in range( len(count_classes.index) )]\n",
    "\n",
    "plt.figure(figsize = ( 10 , 6 ) )\n",
    "sns.barplot(count_classes.index , count_classes.values , alpha = 0.8)\n",
    "plt.ylabel('Count' , fontsize = 16 )\n",
    "plt.xlabel('Classes' , fontsize = 16 )\n",
    "plt.xticks( x , count_classes.index , fontsize = 14 , rotation = 45)\n",
    "plt.show()"
   ]
  },
  {
   "cell_type": "markdown",
   "metadata": {},
   "source": [
    "# Reducing the number of classes to 3. \n",
    "   1. causes \n",
    "   2. treats\n",
    "   3. others"
   ]
  },
  {
   "cell_type": "code",
   "execution_count": 7,
   "metadata": {
    "collapsed": true
   },
   "outputs": [],
   "source": [
    "train_data.loc[train_data.relation == 'is location of' , 'relation'] = 'Others'\n",
    "train_data.loc[train_data.relation == 'diagnosed by' , 'relation'] = 'Others'\n",
    "train_data.loc[train_data.relation == 'contraindicates' , 'relation'] = 'Others'\n",
    "train_data.loc[train_data.relation == 'location' , 'relation'] = 'Others'\n",
    "train_data.loc[train_data.relation == 'location of' , 'relation'] = 'Others'\n",
    "train_data.loc[train_data.relation == 'diagnose_by_test_or_drug' , 'relation'] = 'Others'\n",
    "train_data.loc[train_data.relation == 'is diagnosed by' , 'relation'] = 'Others'\n",
    "\n",
    "test_data.loc[test_data.relation == 'is location of' , 'relation'] = 'Others'\n",
    "test_data.loc[test_data.relation == 'diagnosed by' , 'relation'] = 'Others'\n",
    "test_data.loc[test_data.relation == 'contraindicates' , 'relation'] = 'Others'\n",
    "test_data.loc[test_data.relation == 'location' , 'relation'] = 'Others'\n",
    "test_data.loc[test_data.relation == 'location of' , 'relation'] = 'Others'\n",
    "test_data.loc[test_data.relation == 'diagnose_by_test_or_drug' , 'relation'] = 'Others'\n",
    "test_data.loc[test_data.relation == 'is diagnosed by' , 'relation'] = 'Others'\n",
    "\n",
    "\n"
   ]
  },
  {
   "cell_type": "code",
   "execution_count": 8,
   "metadata": {},
   "outputs": [
    {
     "data": {
      "image/png": "[encoded data removed]",
      "text/plain": [
       "<matplotlib.figure.Figure at 0x170d7279cc0>"
      ]
     },
     "metadata": {},
     "output_type": "display_data"
    }
   ],
   "source": [
    "count_classes = train_data['relation'].value_counts()\n",
    "x = [ i for i in range( len(count_classes.index) )]\n",
    "\n",
    "plt.figure(figsize = ( 10 , 6 ) )\n",
    "sns.barplot(count_classes.index , count_classes.values , alpha = 0.8)\n",
    "plt.ylabel('Count' , fontsize = 16 )\n",
    "plt.xlabel('Classes' , fontsize = 16 )\n",
    "plt.xticks( x , count_classes.index , fontsize = 14 , rotation = 45)\n",
    "plt.show()"
   ]
  },
  {
   "cell_type": "code",
   "execution_count": 9,
   "metadata": {
    "collapsed": true
   },
   "outputs": [],
   "source": [
    "target = train_data['relation']\n",
    "train_data = train_data.drop('relation' , axis = 1)\n",
    "\n",
    "ground_truth = test_data['relation']\n",
    "test_data = test_data.drop('relation' , axis = 1)"
   ]
  },
  {
   "cell_type": "markdown",
   "metadata": {},
   "source": [
    "# Text preprocessing"
   ]
  },
  {
   "cell_type": "code",
   "execution_count": 10,
   "metadata": {
    "collapsed": true
   },
   "outputs": [],
   "source": [
    "import re\n",
    "import numpy as np\n",
    "\n",
    "wpt = nltk.WordPunctTokenizer()\n",
    "stop_words = nltk.corpus.stopwords.words('english')\n",
    "REPLACE_BY_SPACE_RE = re.compile('[/(){}\\[\\]\\|@,;]')\n",
    "\n",
    "def text_prepare(doc):\n",
    "    \n",
    "    doc = REPLACE_BY_SPACE_RE.sub(' ' , doc)\n",
    "    doc = doc.strip()\n",
    "    # tokenize document\n",
    "    tokens = wpt.tokenize(doc)\n",
    "    # filter stopwords out of document\n",
    "    filtered_tokens = [token for token in tokens if token not in stop_words]\n",
    "    # re-create document from filtered tokens\n",
    "    doc = ' '.join(filtered_tokens)\n",
    "    return doc"
   ]
  },
  {
   "cell_type": "code",
   "execution_count": 11,
   "metadata": {
    "collapsed": true
   },
   "outputs": [],
   "source": [
    "train_data = [ text_prepare(x) for x in train_data['sentence']]\n",
    "test_data = [ text_prepare(x) for x in test_data['sentence']]"
   ]
  },
  {
   "cell_type": "code",
   "execution_count": 14,
   "metadata": {
    "collapsed": true
   },
   "outputs": [],
   "source": [
    "from sklearn.feature_extraction.text import TfidfVectorizer\n",
    "\n",
    "tfidf_vectorizer = TfidfVectorizer(stop_words='english',min_df = 5 , max_df = 0.9, ngram_range=(1,3))\n",
    "X_train = tfidf_vectorizer.fit_transform(train_data)\n",
    "X_test = tfidf_vectorizer.transform(test_data)"
   ]
  },
  {
   "cell_type": "code",
   "execution_count": 15,
   "metadata": {
    "collapsed": true
   },
   "outputs": [],
   "source": [
    "from sklearn.preprocessing import LabelEncoder\n",
    "\n",
    "encoder = LabelEncoder()\n",
    "target = encoder.fit_transform(target)\n",
    "target_test = encoder.fit_transform(ground_truth)"
   ]
  },
  {
   "cell_type": "code",
   "execution_count": 16,
   "metadata": {
    "collapsed": true
   },
   "outputs": [],
   "source": [
    "y_train = target\n",
    "y_test = target_test\n"
   ]
  },
  {
   "cell_type": "code",
   "execution_count": 17,
   "metadata": {},
   "outputs": [
    {
     "name": "stdout",
     "output_type": "stream",
     "text": [
      "(13340, 51900) (4566, 51900)\n",
      "(13340,) (4566,)\n"
     ]
    }
   ],
   "source": [
    "# Checking the dimensions finally\n",
    "print(X_train.shape , X_test.shape)\n",
    "print(y_train.shape , y_test.shape)"
   ]
  },
  {
   "cell_type": "markdown",
   "metadata": {},
   "source": [
    "## Checking Different classifiers\n"
   ]
  },
  {
   "cell_type": "code",
   "execution_count": 20,
   "metadata": {
    "collapsed": true
   },
   "outputs": [],
   "source": [
    "from sklearn.naive_bayes import MultinomialNB\n",
    "from sklearn.linear_model import LogisticRegression , RidgeClassifier\n",
    "from sklearn.neighbors import KNeighborsClassifier\n",
    "from sklearn.svm import SVC\n",
    "from sklearn.tree import DecisionTreeClassifier\n",
    "from sklearn.ensemble import RandomForestClassifier, AdaBoostClassifier, GradientBoostingClassifier\n",
    "from sklearn.naive_bayes import GaussianNB\n",
    "\n",
    "from sklearn.metrics import accuracy_score"
   ]
  },
  {
   "cell_type": "code",
   "execution_count": 21,
   "metadata": {},
   "outputs": [
    {
     "name": "stdout",
     "output_type": "stream",
     "text": [
      "==============================\n",
      "MultinomialNB\n",
      "******Results******\n",
      "Accuracy : 72.8428%\n",
      "==============================\n",
      "RidgeClassifier\n",
      "******Results******\n",
      "Accuracy : 70.6307%\n",
      "==============================\n",
      "LogisticRegression\n",
      "******Results******\n",
      "Accuracy : 71.3097%\n",
      "==============================\n",
      "KNeighborsClassifier\n",
      "******Results******\n",
      "Accuracy : 63.8633%\n",
      "==============================\n",
      "SVC\n",
      "******Results******\n",
      "Accuracy : 51.2046%\n",
      "==============================\n",
      "DecisionTreeClassifier\n",
      "******Results******\n",
      "Accuracy : 59.1546%\n",
      "==============================\n",
      "RandomForestClassifier\n",
      "******Results******\n",
      "Accuracy : 68.3749%\n",
      "==============================\n",
      "AdaBoostClassifier\n",
      "******Results******\n",
      "Accuracy : 66.0534%\n",
      "==============================\n",
      "GradientBoostingClassifier\n",
      "******Results******\n",
      "Accuracy : 67.8274%\n"
     ]
    }
   ],
   "source": [
    "classifiers = [ MultinomialNB(alpha=1.0) ,\n",
    "                RidgeClassifier(normalize = True) , \n",
    "                LogisticRegression(C = 1.0, random_state = 8) , \n",
    "                KNeighborsClassifier(3) ,\n",
    "                SVC( kernel = 'rbf' , C = 0.025),\n",
    "                DecisionTreeClassifier() ,\n",
    "                RandomForestClassifier() , \n",
    "                AdaBoostClassifier() ,\n",
    "                GradientBoostingClassifier() \n",
    "              ]\n",
    "\n",
    "\n",
    "\n",
    "for clf in classifiers:\n",
    "    clf.fit( X_train , y_train)\n",
    "    name = clf.__class__.__name__\n",
    "    \n",
    "    print( \"=\"*30)\n",
    "    print(name)\n",
    "    \n",
    "    print('******Results******')\n",
    "    train_predictions = clf.predict(X_test)\n",
    "    acc = accuracy_score( y_test , train_predictions )\n",
    "    print(\"Accuracy : {:.4%}\".format(acc))\n",
    "               \n",
    "    \n",
    "    "
   ]
  },
  {
   "cell_type": "markdown",
   "metadata": {},
   "source": [
    "# Checking the confusion matrix \n",
    "   Majority of the predictions are as class 'causes' ."
   ]
  },
  {
   "cell_type": "code",
   "execution_count": 73,
   "metadata": {
    "collapsed": true
   },
   "outputs": [],
   "source": [
    "from sklearn.metrics import confusion_matrix\n",
    "import itertools\n",
    "import matplotlib.pyplot as plt\n",
    "\n",
    "def plot_confusion_matrix(cm, classes,\n",
    "                          normalize=False,\n",
    "                          title='Confusion matrix',\n",
    "                          cmap=plt.cm.Blues):\n",
    "    if normalize:\n",
    "        cm = cm.astype('float') / cm.sum(axis=1)[:, np.newaxis]\n",
    "        print(\"Normalized confusion matrix\")\n",
    "    else:\n",
    "        print('Confusion matrix, without normalization')\n",
    "\n",
    "    print(cm)\n",
    "    plt.imshow(cm, interpolation='nearest', cmap=cmap)\n",
    "    plt.title(title)\n",
    "    plt.colorbar()\n",
    "    tick_marks = np.arange(len(classes))\n",
    "    plt.xticks(tick_marks, classes, rotation=45)\n",
    "    plt.yticks(tick_marks, classes)\n",
    "\n",
    "    fmt = '.2f' if normalize else 'd'\n",
    "    thresh = cm.max() / 2.\n",
    "    for i, j in itertools.product(range(cm.shape[0]), range(cm.shape[1])):\n",
    "        plt.text(j, i, format(cm[i, j], fmt),\n",
    "                 horizontalalignment=\"center\",\n",
    "                 color=\"white\" if cm[i, j] > thresh else \"black\")\n",
    "\n",
    "    plt.tight_layout()\n",
    "    plt.ylabel('True label')\n",
    "    plt.xlabel('Predicted label')\n",
    "\n",
    "    \n",
    "    "
   ]
  },
  {
   "cell_type": "code",
   "execution_count": 74,
   "metadata": {
    "collapsed": true
   },
   "outputs": [],
   "source": [
    "class_names = encoder.classes_"
   ]
  },
  {
   "cell_type": "code",
   "execution_count": 75,
   "metadata": {},
   "outputs": [
    {
     "name": "stdout",
     "output_type": "stream",
     "text": [
      "Confusion matrix, without normalization\n",
      "[[  45  402  101]\n",
      " [  73 1916  349]\n",
      " [   0  416 1264]]\n"
     ]
    },
    {
     "data": {
      "image/png": "[encoded data removed]",
      "text/plain": [
       "<matplotlib.figure.Figure at 0x22d0cc04e48>"
      ]
     },
     "metadata": {},
     "output_type": "display_data"
    }
   ],
   "source": [
    "cnf_matrix = confusion_matrix(y_test, y_predicted_nb)\n",
    "np.set_printoptions(precision=2)\n",
    "\n",
    "# Plot non-normalized confusion matrix\n",
    "plt.figure()\n",
    "plot_confusion_matrix(cnf_matrix, classes=class_names,\n",
    "                      title='Confusion matrix, without normalization')\n",
    "\n",
    "# Plot normalized confusion matrix\n",
    "#plt.figure()\n",
    "#plot_confusion_matrix(cnf_matrix, classes=class_names, normalize=True,\n",
    "                      #title='Normalized confusion matrix')\n",
    "\n",
    "plt.show()"
   ]
  },
  {
   "cell_type": "code",
   "execution_count": null,
   "metadata": {
    "collapsed": true
   },
   "outputs": [],
   "source": []
  }
 ],
 "metadata": {
  "kernelspec": {
   "display_name": "Python 3",
   "language": "python",
   "name": "python3"
  },
  "language_info": {
   "codemirror_mode": {
    "name": "ipython",
    "version": 3
   },
   "file_extension": ".py",
   "mimetype": "text/x-python",
   "name": "python",
   "nbconvert_exporter": "python",
   "pygments_lexer": "ipython3",
   "version": "3.6.3"
  }
 },
 "nbformat": 4,
 "nbformat_minor": 2
}
